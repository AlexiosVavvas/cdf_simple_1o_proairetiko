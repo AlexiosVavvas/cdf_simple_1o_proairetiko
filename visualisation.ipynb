{
 "cells": [
  {
   "cell_type": "code",
   "execution_count": 1,
   "metadata": {},
   "outputs": [],
   "source": [
    "import numpy as np\n",
    "import matplotlib.pyplot as plt\n",
    "%matplotlib qt \n",
    "# %matplotlib inline \n",
    "# %matplotlib widget\n",
    "import math"
   ]
  },
  {
   "cell_type": "code",
   "execution_count": 2,
   "metadata": {},
   "outputs": [],
   "source": [
    "# Read grids\n",
    "grid1 = np.genfromtxt(\"grid1\")\n",
    "grid2 = np.genfromtxt(\"grid2\")"
   ]
  },
  {
   "cell_type": "code",
   "execution_count": 18,
   "metadata": {},
   "outputs": [],
   "source": [
    "plt.figure()\n",
    "plt.scatter(grid1[:, 0], grid1[:, 1], s=1)\n",
    "plt.scatter(grid2[:, 0], grid2[:, 1], s=1)\n",
    "# plt.xlim([0, 1])\n",
    "# plt.ylim([0, 5])\n",
    "plt.show()\n"
   ]
  },
  {
   "cell_type": "markdown",
   "metadata": {},
   "source": [
    "Given N number of points, the first and the last we can find the ratio"
   ]
  },
  {
   "cell_type": "code",
   "execution_count": null,
   "metadata": {},
   "outputs": [],
   "source": [
    "N = 10\n",
    "x_init = 1\n",
    "x_final = 10\n",
    "\n",
    "r = (x_final/x_init) ** (1/(N - 1))\n",
    "print(f\"r = {r}\")\n",
    "\n",
    "x = np.zeros(N)\n",
    "x[0] = x_init\n",
    "\n",
    "for i in range(N-1):\n",
    "    x[i+1] = x[i] * r  # x1 = x0 * r\n",
    "    \n",
    "plt.scatter(x, np.zeros(len(x)))\n",
    "plt.show()"
   ]
  },
  {
   "cell_type": "markdown",
   "metadata": {},
   "source": [
    "Debugging GRID from Code"
   ]
  },
  {
   "cell_type": "code",
   "execution_count": 20,
   "metadata": {},
   "outputs": [
    {
     "name": "stdout",
     "output_type": "stream",
     "text": [
      "y max found = 14.909401332447274\n"
     ]
    }
   ],
   "source": [
    "# Input variables\n",
    "y_min = 0\n",
    "change_y_pos = 9\n",
    "y_max = 15\n",
    "\n",
    "ngrid_uni = 50\n",
    "ngridy1 = 80\n",
    "ngridy2 = 50\n",
    "\n",
    "# raty1 = 1.2\n",
    "# raty2 = 1.2\n",
    "\n",
    "# Basic calculations\n",
    "dy_grid = 1/(ngrid_uni - 1)\n",
    "ngridy = ngrid_uni + ngridy1 + ngridy2 - 1\n",
    "\n",
    "# Allocations\n",
    "y_grid = np.zeros(ngridy)\n",
    "y_c = np.ones(ngridy) # variable for color control\n",
    "\n",
    "#--- From y=ymin to y=1 (disk radius)\n",
    "y_grid[1] = y_min\n",
    "for j in range(1, ngrid_uni):\n",
    "    y_grid[j+1] = y_grid[j] + dy_grid\n",
    "    y_c[j+1] = 1\n",
    "y_grid[0] = -y_grid[2]\n",
    "\n",
    "#--- From y=1 to y=change_y_pos \n",
    "raty1 = (change_y_pos / 1) ** (1 / (ngridy1 - 1))\n",
    "for j in range(ngridy1):\n",
    "    y_grid[ngrid_uni + j+1] = y_grid[ngrid_uni + j] * raty1\n",
    "    y_c[ngrid_uni + j+1] = 5\n",
    "\n",
    "\n",
    "#--- From y=change_y_pos to y=ymax\n",
    "raty2 = (y_max / change_y_pos) ** (1 / (ngridy2 + 1))\n",
    "for j in range(ngridy2-1):\n",
    "    y_grid[ngrid_uni + ngridy1 + j] = change_y_pos * raty2 ** (ngridy2-1 - j)\n",
    "    y_c[ngrid_uni + ngridy1 + j] = 3\n",
    "for j in range(ngridy2-1):\n",
    "    y_grid[ngrid_uni + ngridy1 + j] = 2 * (y_max + change_y_pos)/2 - y_grid[ngrid_uni + ngridy1 + j]\n",
    "\n",
    "\n",
    "\n",
    "\n",
    "print(f\"y max found = {max(y_grid)}\")\n",
    "\n",
    "#--- Plotting Result\n",
    "plt.scatter(np.linspace(0, len(y_grid), len(y_grid)), y_grid, c=y_c, cmap='viridis')\n",
    "plt.xlabel(\"a/a\")\n",
    "plt.ylabel(\"y\")\n",
    "# plt.xlim([0, 2])\n",
    "# plt.ylim([0, 2])\n",
    "plt.grid()\n",
    "\n",
    "for j in range(len(y_grid)):\n",
    "    plt.plot([-20, 0], [y_grid[j], y_grid[j]], 'k-')\n",
    "plt.show()\n",
    "\n"
   ]
  },
  {
   "cell_type": "markdown",
   "metadata": {},
   "source": [
    "Method to flip a point along a specific line"
   ]
  },
  {
   "cell_type": "code",
   "execution_count": null,
   "metadata": {},
   "outputs": [],
   "source": [
    "# Flip along y = ax + b\n",
    "a = -4.714285714285714\n",
    "b = 100\n",
    "\n",
    "# point to flip\n",
    "x0 = [5, 30]\n",
    "\n",
    "delta_x = 2 * np.abs(a*x0[0] - x0[1] + b) * np.abs(a) / (a**2 + 1)\n",
    "delta_y = 2 * np.abs(a*x0[0] - x0[1] + b) * 1 / (a**2 + 1)\n",
    "\n",
    "x1 = [x0[0] + delta_x, x0[1] + delta_y]\n",
    "\n",
    "# Force orthogonal axes\n",
    "# plt.gca().set_aspect('equal', adjustable='box')\n",
    "plt.plot([0, -b/a], [b, 0], 'k-')\n",
    "plt.plot([x0[0], x1[0]], [x0[1], x1[1]], 'ro-')\n",
    "plt.grid()\n",
    "plt.show()"
   ]
  },
  {
   "cell_type": "markdown",
   "metadata": {},
   "source": [
    "Trying to do the same to a progression"
   ]
  },
  {
   "cell_type": "code",
   "execution_count": 2,
   "metadata": {},
   "outputs": [
    {
     "name": "stdout",
     "output_type": "stream",
     "text": [
      "0.8300354985387393\n",
      "a = -2.3333333333333335, b = 50.0\n"
     ]
    }
   ],
   "source": [
    "def g_prog(start, end, n):\n",
    "    # Calculate the common ratio\n",
    "    r = (end / start) ** (1 / (n + 1))\n",
    "    print(r)\n",
    "\n",
    "    # Generate the geometric progression as a list\n",
    "    progression = np.zeros(n + 2)\n",
    "    for i in range(n + 2):\n",
    "        progression[i] = start * r**i\n",
    "\n",
    "    # Flip progression\n",
    "    alfa = (end - start) / (n+1 - 0)\n",
    "    beta = start - alfa * 0\n",
    "    prog_new = np.copy(progression)\n",
    "    x_new = np.zeros(len(progression))\n",
    "    print(f\"a = {alfa}, b = {beta}\")\n",
    "    for i in range(n+2):\n",
    "        delta_x = 2 * np.abs(alfa * i - progression[i] + beta) * np.abs(alfa) / (alfa**2 + 1)\n",
    "        delta_y = 2 * np.abs(alfa * i - progression[i] + beta) / (alfa**2 + 1)\n",
    "        prog_new[i] += delta_y\n",
    "        x_new[i] = i + delta_x\n",
    "        # x_new[i] = i + delta_y*1.5\n",
    "\n",
    "\n",
    "    return progression, prog_new, x_new\n",
    "\n",
    "n = 20\n",
    "prog, prog_new, x_new = g_prog(50, 1, n)\n",
    "g_len = len(prog)\n",
    "\n",
    "\n",
    "# Plotting Result\n",
    "# Force orthogonal axes\n",
    "# plt.gca().set_aspect('equal', adjustable='box')\n",
    "\n",
    "plt.scatter(np.linspace(0, g_len, g_len), prog, label=\"Old\")\n",
    "plt.scatter(x_new, prog_new, label=\"New\")\n",
    "plt.plot([0, n+1], [prog[0], prog[n+1]], 'ko-')\n",
    "plt.xlabel(\"a/a\")\n",
    "plt.ylabel(\"y\")\n",
    "plt.legend()\n",
    "# plt.xlim([-1, 1])\n",
    "# plt.ylim([18, 26])\n",
    "plt.grid()\n",
    "plt.show()"
   ]
  },
  {
   "cell_type": "markdown",
   "metadata": {},
   "source": [
    "Flipping along the horizontal with inverting the exponent "
   ]
  },
  {
   "cell_type": "code",
   "execution_count": 27,
   "metadata": {},
   "outputs": [
    {
     "name": "stdout",
     "output_type": "stream",
     "text": [
      "1.141140309994013\n",
      "20\n"
     ]
    }
   ],
   "source": [
    "def g_prog(start, end, n):\n",
    "    # Calculate the common ratio\n",
    "    r = (end / start) ** (1 / (n + 1))\n",
    "    print(r)\n",
    "\n",
    "    # Generate the geometric progression as a list\n",
    "    prog = np.zeros(n)\n",
    "    for i in range(n):\n",
    "        prog[i] = start * r**(n-1-i)\n",
    "\n",
    "    prog_inv = 2 * (end+start)/2 - prog\n",
    "    return prog, prog_inv\n",
    "\n",
    "n = 20\n",
    "start = 5\n",
    "end = 80\n",
    "prog, prog_inv = g_prog(start, end, n)\n",
    "g_len = len(prog)\n",
    "print(g_len)\n",
    "\n",
    "# Plotting Result\n",
    "plt.scatter(np.linspace(0, g_len, g_len), prog)\n",
    "plt.scatter(np.linspace(0, g_len, g_len), prog_inv)\n",
    "plt.plot(np.linspace(0, g_len, g_len), (end+start)/2 * np.ones(g_len), 'k--')\n",
    "plt.xlabel(\"a/a\")\n",
    "plt.ylabel(\"y\")\n",
    "plt.grid()\n",
    "plt.show()"
   ]
  }
 ],
 "metadata": {
  "kernelspec": {
   "display_name": "Python 3",
   "language": "python",
   "name": "python3"
  },
  "language_info": {
   "codemirror_mode": {
    "name": "ipython",
    "version": 3
   },
   "file_extension": ".py",
   "mimetype": "text/x-python",
   "name": "python",
   "nbconvert_exporter": "python",
   "pygments_lexer": "ipython3",
   "version": "3.11.0"
  }
 },
 "nbformat": 4,
 "nbformat_minor": 2
}
